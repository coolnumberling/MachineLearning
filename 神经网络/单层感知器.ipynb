{
 "cells": [
  {
   "cell_type": "code",
   "execution_count": 7,
   "metadata": {},
   "outputs": [],
   "source": [
    "import numpy as np\n",
    "import matplotlib.pyplot as plt"
   ]
  },
  {
   "cell_type": "code",
   "execution_count": 16,
   "metadata": {},
   "outputs": [
    {
     "name": "stdout",
     "output_type": "stream",
     "text": [
      "[[-0.75441289]\n",
      " [-0.94787497]\n",
      " [ 0.13513655]]\n"
     ]
    }
   ],
   "source": [
    "#输入数据\n",
    "X = np.array([[1 , 3 , 3],\n",
    "             [1 , 4 , 3],\n",
    "             [1 , 1 , 2],\n",
    "             [1 , 0 , 2]])\n",
    "#标签\n",
    "Y = np.array([[1],\n",
    "              [1],\n",
    "              [-1],\n",
    "              [-1]])\n",
    "\n",
    "#权值初始化 ， 3行1列，取值范围-1到1\n",
    "W = (np.random.random([3 , 1]) - 0.5) * 2\n",
    "\n",
    "print(W)\n",
    "\n",
    "#学习率设置\n",
    "lr = 0.11\n",
    "#神经网络输出\n",
    "O = 0\n",
    "\n",
    "def update():\n",
    "    global X , Y , W , lr\n",
    "    O = np.sign(np.dot(X , W))\n",
    "    W_C = lr * ( X.T.dot(Y-O))/int(X.shape[0])\n",
    "    W = W + W_C"
   ]
  },
  {
   "cell_type": "code",
   "execution_count": 17,
   "metadata": {},
   "outputs": [
    {
     "name": "stdout",
     "output_type": "stream",
     "text": [
      "Finished\n",
      "epoch: 7\n",
      "k= [-0.80008308]\n",
      "d= [4.83554009]\n"
     ]
    },
    {
     "data": {
      "image/png": "[encoded data removed]",
      "text/plain": [
       "<Figure size 432x288 with 1 Axes>"
      ]
     },
     "metadata": {
      "needs_background": "light"
     },
     "output_type": "display_data"
    }
   ],
   "source": [
    "for i in range(100):\n",
    "    update() #更新权值\n",
    "#     print(W)\n",
    "#     print(i)\n",
    "    O = np.sign(np.dot(X , W))\n",
    "    if(O == Y).all():\n",
    "        print(\"Finished\")\n",
    "        print('epoch:',i)\n",
    "        break\n",
    "\n",
    "#正样本\n",
    "x1 = [3 , 4]\n",
    "y1 = [3 , 3]\n",
    "#负样本\n",
    "x2 = [1 , 0]\n",
    "y2 = [1 , 2]\n",
    "\n",
    "#计算分界线的斜率以及截距\n",
    "k = -W[1]/W[2]\n",
    "d = -W[0]/W[2]\n",
    "print('k=' , k)\n",
    "print('d=' , d)\n",
    "\n",
    "xdata = (0 , 5)\n",
    "\n",
    "plt.figure()\n",
    "plt.plot(xdata , xdata*k+d , 'r')\n",
    "plt.scatter(x1 , y1  , c='b')\n",
    "plt.scatter(x2 , y2  , c='y')\n",
    "plt.show()"
   ]
  },
  {
   "cell_type": "code",
   "execution_count": null,
   "metadata": {},
   "outputs": [],
   "source": []
  },
  {
   "cell_type": "code",
   "execution_count": null,
   "metadata": {},
   "outputs": [],
   "source": []
  }
 ],
 "metadata": {
  "kernelspec": {
   "display_name": "Python 3",
   "language": "python",
   "name": "python3"
  },
  "language_info": {
   "codemirror_mode": {
    "name": "ipython",
    "version": 3
   },
   "file_extension": ".py",
   "mimetype": "text/x-python",
   "name": "python",
   "nbconvert_exporter": "python",
   "pygments_lexer": "ipython3",
   "version": "3.7.3"
  }
 },
 "nbformat": 4,
 "nbformat_minor": 2
}
