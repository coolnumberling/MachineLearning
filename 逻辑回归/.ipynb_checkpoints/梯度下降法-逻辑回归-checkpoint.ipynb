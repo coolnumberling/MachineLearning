{
 "cells": [
  {
   "cell_type": "code",
   "execution_count": 3,
   "metadata": {},
   "outputs": [],
   "source": [
    "import numpy as np\n",
    "import matplotlib.pyplot as plt\n",
    "from sklearn.metrics import classification_report\n",
    "from sklearn import preprocessing\n",
    "#数据是否需要标准化\n",
    "scale = False"
   ]
  },
  {
   "cell_type": "code",
   "execution_count": 5,
   "metadata": {},
   "outputs": [],
   "source": [
    "#载入数据\n",
    "data = np.genfromtxt(\"LR-testSet.csv\" , delimiter = \",\")\n",
    "x_data = data[:,:-1]\n",
    "y_data = data[:,-1]"
   ]
  },
  {
   "cell_type": "code",
   "execution_count": 9,
   "metadata": {},
   "outputs": [
    {
     "data": {
      "image/png": "[encoded data removed]",
      "text/plain": [
       "<Figure size 432x288 with 1 Axes>"
      ]
     },
     "metadata": {
      "needs_background": "light"
     },
     "output_type": "display_data"
    }
   ],
   "source": [
    "def plot():\n",
    "    x0 = []\n",
    "    x1 = []\n",
    "    y0 = []\n",
    "    y1 = []\n",
    "    #切分不同类别的数据\n",
    "    for i in range(len(x_data)):\n",
    "        if y_data[i]==0:\n",
    "            x0.append(x_data[i , 0])\n",
    "            y0.append(x_data[i , 1])\n",
    "        else:\n",
    "            x1.append(x_data[i , 0])\n",
    "            y1.append(x_data[i , 1])\n",
    "    #画图\n",
    "    scatter0 = plt.scatter(x0 , y0 , c = 'b' , marker = 'o')\n",
    "    scatter1 = plt.scatter(x1 , y1 , c = 'r' , marker = 'x')\n",
    "    #画图例\n",
    "    plt.legend(handles = [scatter0 , scatter1] , labels = ['label0' , 'label1'] , loc = 'best')\n",
    "plot()\n",
    "plt.show()"
   ]
  },
  {
   "cell_type": "code",
   "execution_count": null,
   "metadata": {},
   "outputs": [],
   "source": []
  }
 ],
 "metadata": {
  "kernelspec": {
   "display_name": "Python 3",
   "language": "python",
   "name": "python3"
  },
  "language_info": {
   "codemirror_mode": {
    "name": "ipython",
    "version": 3
   },
   "file_extension": ".py",
   "mimetype": "text/x-python",
   "name": "python",
   "nbconvert_exporter": "python",
   "pygments_lexer": "ipython3",
   "version": "3.7.3"
  }
 },
 "nbformat": 4,
 "nbformat_minor": 2
}
